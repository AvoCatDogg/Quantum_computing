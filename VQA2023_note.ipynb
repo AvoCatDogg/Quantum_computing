{
  "nbformat": 4,
  "nbformat_minor": 0,
  "metadata": {
    "colab": {
      "provenance": [],
      "collapsed_sections": [
        "77AjfEzTNpT-",
        "LwLbaOnqJskp",
        "CbaydA41oNka",
        "wQVieT_a8bCn"
      ],
      "authorship_tag": "ABX9TyOh03sIsH8t185ICNjp0zhx",
      "include_colab_link": true
    },
    "kernelspec": {
      "name": "python3",
      "display_name": "Python 3"
    },
    "language_info": {
      "name": "python"
    }
  },
  "cells": [
    {
      "cell_type": "markdown",
      "metadata": {
        "id": "view-in-github",
        "colab_type": "text"
      },
      "source": [
        "<a href=\"https://colab.research.google.com/github/AvoCatDogg/Quantum_computing/blob/main/VQA2023_note.ipynb\" target=\"_parent\"><img src=\"https://colab.research.google.com/assets/colab-badge.svg\" alt=\"Open In Colab\"/></a>"
      ]
    },
    {
      "cell_type": "markdown",
      "source": [
        "#import"
      ],
      "metadata": {
        "id": "77AjfEzTNpT-"
      }
    },
    {
      "cell_type": "code",
      "execution_count": 1,
      "metadata": {
        "colab": {
          "base_uri": "https://localhost:8080/"
        },
        "id": "WEhkso7gCOrv",
        "outputId": "3303f499-f96b-4c5f-b80b-d70805184a33"
      },
      "outputs": [
        {
          "output_type": "stream",
          "name": "stdout",
          "text": [
            "Collecting PennyLane\n",
            "  Downloading PennyLane-0.31.0-py3-none-any.whl (1.4 MB)\n",
            "\u001b[?25l     \u001b[90m━━━━━━━━━━━━━━━━━━━━━━━━━━━━━━━━━━━━━━━━\u001b[0m \u001b[32m0.0/1.4 MB\u001b[0m \u001b[31m?\u001b[0m eta \u001b[36m-:--:--\u001b[0m\r\u001b[2K     \u001b[91m━━━━━━━━\u001b[0m\u001b[90m╺\u001b[0m\u001b[90m━━━━━━━━━━━━━━━━━━━━━━━━━━━━━━━\u001b[0m \u001b[32m0.3/1.4 MB\u001b[0m \u001b[31m8.6 MB/s\u001b[0m eta \u001b[36m0:00:01\u001b[0m\r\u001b[2K     \u001b[90m━━━━━━━━━━━━━━━━━━━━━━━━━━━━━━━━━━━━━━━━\u001b[0m \u001b[32m1.4/1.4 MB\u001b[0m \u001b[31m20.8 MB/s\u001b[0m eta \u001b[36m0:00:00\u001b[0m\n",
            "\u001b[?25hRequirement already satisfied: numpy<1.24 in /usr/local/lib/python3.10/dist-packages (from PennyLane) (1.22.4)\n",
            "Collecting scipy<=1.10 (from PennyLane)\n",
            "  Downloading scipy-1.10.0-cp310-cp310-manylinux_2_17_x86_64.manylinux2014_x86_64.whl (34.4 MB)\n",
            "\u001b[2K     \u001b[90m━━━━━━━━━━━━━━━━━━━━━━━━━━━━━━━━━━━━━━━━\u001b[0m \u001b[32m34.4/34.4 MB\u001b[0m \u001b[31m42.7 MB/s\u001b[0m eta \u001b[36m0:00:00\u001b[0m\n",
            "\u001b[?25hRequirement already satisfied: networkx in /usr/local/lib/python3.10/dist-packages (from PennyLane) (3.1)\n",
            "Collecting rustworkx (from PennyLane)\n",
            "  Downloading rustworkx-0.13.0-cp310-cp310-manylinux_2_17_x86_64.manylinux2014_x86_64.whl (1.9 MB)\n",
            "\u001b[2K     \u001b[90m━━━━━━━━━━━━━━━━━━━━━━━━━━━━━━━━━━━━━━━━\u001b[0m \u001b[32m1.9/1.9 MB\u001b[0m \u001b[31m72.2 MB/s\u001b[0m eta \u001b[36m0:00:00\u001b[0m\n",
            "\u001b[?25hCollecting autograd<=1.5 (from PennyLane)\n",
            "  Downloading autograd-1.5-py3-none-any.whl (48 kB)\n",
            "\u001b[2K     \u001b[90m━━━━━━━━━━━━━━━━━━━━━━━━━━━━━━━━━━━━━━━━\u001b[0m \u001b[32m48.9/48.9 kB\u001b[0m \u001b[31m5.7 MB/s\u001b[0m eta \u001b[36m0:00:00\u001b[0m\n",
            "\u001b[?25hRequirement already satisfied: toml in /usr/local/lib/python3.10/dist-packages (from PennyLane) (0.10.2)\n",
            "Requirement already satisfied: appdirs in /usr/local/lib/python3.10/dist-packages (from PennyLane) (1.4.4)\n",
            "Collecting semantic-version>=2.7 (from PennyLane)\n",
            "  Downloading semantic_version-2.10.0-py2.py3-none-any.whl (15 kB)\n",
            "Collecting autoray>=0.3.1 (from PennyLane)\n",
            "  Downloading autoray-0.6.3-py3-none-any.whl (48 kB)\n",
            "\u001b[2K     \u001b[90m━━━━━━━━━━━━━━━━━━━━━━━━━━━━━━━━━━━━━━━━\u001b[0m \u001b[32m48.3/48.3 kB\u001b[0m \u001b[31m5.3 MB/s\u001b[0m eta \u001b[36m0:00:00\u001b[0m\n",
            "\u001b[?25hRequirement already satisfied: cachetools in /usr/local/lib/python3.10/dist-packages (from PennyLane) (5.3.1)\n",
            "Collecting pennylane-lightning>=0.31 (from PennyLane)\n",
            "  Downloading PennyLane_Lightning-0.31.0-cp310-cp310-manylinux_2_17_x86_64.manylinux2014_x86_64.whl (16.6 MB)\n",
            "\u001b[2K     \u001b[90m━━━━━━━━━━━━━━━━━━━━━━━━━━━━━━━━━━━━━━━━\u001b[0m \u001b[32m16.6/16.6 MB\u001b[0m \u001b[31m50.8 MB/s\u001b[0m eta \u001b[36m0:00:00\u001b[0m\n",
            "\u001b[?25hRequirement already satisfied: requests in /usr/local/lib/python3.10/dist-packages (from PennyLane) (2.27.1)\n",
            "Requirement already satisfied: future>=0.15.2 in /usr/local/lib/python3.10/dist-packages (from autograd<=1.5->PennyLane) (0.18.3)\n",
            "Requirement already satisfied: urllib3<1.27,>=1.21.1 in /usr/local/lib/python3.10/dist-packages (from requests->PennyLane) (1.26.16)\n",
            "Requirement already satisfied: certifi>=2017.4.17 in /usr/local/lib/python3.10/dist-packages (from requests->PennyLane) (2023.5.7)\n",
            "Requirement already satisfied: charset-normalizer~=2.0.0 in /usr/local/lib/python3.10/dist-packages (from requests->PennyLane) (2.0.12)\n",
            "Requirement already satisfied: idna<4,>=2.5 in /usr/local/lib/python3.10/dist-packages (from requests->PennyLane) (3.4)\n",
            "Installing collected packages: semantic-version, scipy, rustworkx, autoray, autograd, pennylane-lightning, PennyLane\n",
            "  Attempting uninstall: scipy\n",
            "    Found existing installation: scipy 1.10.1\n",
            "    Uninstalling scipy-1.10.1:\n",
            "      Successfully uninstalled scipy-1.10.1\n",
            "  Attempting uninstall: autograd\n",
            "    Found existing installation: autograd 1.6.1\n",
            "    Uninstalling autograd-1.6.1:\n",
            "      Successfully uninstalled autograd-1.6.1\n",
            "Successfully installed PennyLane-0.31.0 autograd-1.5 autoray-0.6.3 pennylane-lightning-0.31.0 rustworkx-0.13.0 scipy-1.10.0 semantic-version-2.10.0\n"
          ]
        }
      ],
      "source": [
        "!pip install PennyLane\n",
        "import numpy as np"
      ]
    },
    {
      "cell_type": "code",
      "source": [
        "import numpy as np"
      ],
      "metadata": {
        "id": "hI0IXVqvFPu5"
      },
      "execution_count": 2,
      "outputs": []
    },
    {
      "cell_type": "markdown",
      "source": [
        "#2023-07-03 월요일"
      ],
      "metadata": {
        "id": "x89Qu7rICSRP"
      }
    },
    {
      "cell_type": "markdown",
      "source": [
        "##**I.1 All About qubits**\n",
        "---"
      ],
      "metadata": {
        "id": "BbJCKfUqIXiM"
      }
    },
    {
      "cell_type": "markdown",
      "source": [
        "양자컴퓨터는 오늘날 슈퍼컴퓨터에서도 다루기 힘든 문제를 해결 가능한 놀라운 잠재력을 가진 기술이다.\n",
        "\n",
        "오늘날 우리가 사용하는 고전적인 컴퓨터는 정보를 bit로 나타낸다. bit는 0혹은 1을 가지는 이진수 값이며, 이 두 상태는 물리적으로 두가지 다른 상태를 지닌다.\n",
        "\n",
        "예를들어 전자부품을 통과하는 전압은 비트를 나타내는데 있어, 어떤 임계값을 선택하여 해당 임계값 아래로는 0의 bit를, 임계값 이후로는 1의 bit를 표시하는 방법으로 bit를 표현 가능하다.\n",
        "\n",
        "![image.png](data:image/png;base64,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)\n",
        "\n"
      ],
      "metadata": {
        "id": "k1jPEylJVzrr"
      }
    },
    {
      "cell_type": "markdown",
      "source": [
        "양자컴퓨터의 잠재력은 정보를 조작하고 표현하는데 다른 방식을 사용하는것에서 나타난다.\n",
        "양자컴퓨터는 qubit라 불리는 특별한 bit를 사용한다.\n",
        "bit와 마찬가지로, qubit또한 bit와 같이 물리적인것에 해당하지만, 이 문서에서는 qubit의 소프트웨어적인 부분과 알고리즘의 관점에서 이론에 초점을 맞출것이다.\n",
        "우리가 핵심적으로 볼 요소는:\n",
        "\n",
        "\n",
        "1.   qubit의 state의 수학적인 표현\n",
        "2.   qubit가 어떤 상태에 있는지 결정하기 위한 qubit측정  방법\n",
        "3.   계산을 수행하기위해서 state를 조작하는 방법\n",
        "\n"
      ],
      "metadata": {
        "id": "vYkhTFa4HDXb"
      }
    },
    {
      "cell_type": "markdown",
      "source": [
        "###Codercise"
      ],
      "metadata": {
        "id": "LwLbaOnqJskp"
      }
    },
    {
      "cell_type": "code",
      "source": [
        "'''\n",
        "codercise I.1.1\n",
        "'''\n",
        "\n",
        "# Here are the vector representations of |0> and |1>, for convenience\n",
        "ket_0 = np.array([1, 0])\n",
        "ket_1 = np.array([0, 1])\n",
        "\n",
        "print(np.conjugate(ket_0))\n",
        "\n",
        "def normalize_state(alpha, beta):\n",
        "    \"\"\"Compute a normalized quantum state given arbitrary amplitudes.\n",
        "\n",
        "    Args:\n",
        "        alpha (complex): The amplitude associated with the |0> state.\n",
        "        beta (complex): The amplitude associated with the |1> state.\n",
        "\n",
        "    Returns:\n",
        "        array[complex]: A vector (numpy array) with 2 elements that represents\n",
        "        a normalized quantum state.\n",
        "    \"\"\"\n",
        "    psi = alpha * ket_0 + beta * ket_1\n",
        "    c = alpha * alpha.conjugate() + beta * beta.conjugate()\n",
        "    psi_n = psi/c\n",
        "\n",
        "    return psi_n\n",
        "\n",
        "'''\n",
        "codercise I.1.2\n",
        "'''\n",
        "\n",
        "def inner_product(state_1, state_2):\n",
        "    \"\"\"Compute the inner product between two states.\n",
        "\n",
        "    Args:\n",
        "        state_1 (array[complex]): A normalized quantum state vector\n",
        "        state_2 (array[complex]): A second normalized quantum state vector\n",
        "\n",
        "    Returns:\n",
        "        complex: The value of the inner product <state_1 | state_2>.\n",
        "    \"\"\"\n",
        "    result = np.dot(np.conj(state_1).T, state_2)\n",
        "    return  result\n",
        "\n",
        "# Test your results with this code\n",
        "ket_0 = np.array([1, 0])\n",
        "ket_1 = np.array([0, 1])\n",
        "\n",
        "print(f\"<0|0> = {inner_product(ket_0, ket_0)}\")\n",
        "print(f\"<0|1> = {inner_product(ket_0, ket_1)}\")\n",
        "print(f\"<1|0> = {inner_product(ket_1, ket_0)}\")\n",
        "print(f\"<1|1> = {inner_product(ket_1, ket_1)}\")\n",
        "\n",
        "'''\n",
        "codercise I.1.3\n",
        "'''\n",
        "def measure_state(state, num_meas):\n",
        "    \"\"\"Simulate a quantum measurement process.\n",
        "\n",
        "    Args:\n",
        "        state (array[complex]): A normalized qubit state vector.\n",
        "        num_meas (int): The number of measurements to take\n",
        "\n",
        "    Returns:\n",
        "        array[int]: A set of num_meas samples, 0 or 1, chosen according to the probability\n",
        "        distribution defined by the input state.\n",
        "    \"\"\"\n",
        "\n",
        "    ##################\n",
        "    # YOUR CODE HERE #\n",
        "    ##################\n",
        "\n",
        "    # COMPUTE THE MEASUREMENT OUTCOME PROBABILITIES\n",
        "\n",
        "    # RETURN A LIST OF SAMPLE MEASUREMENT OUTCOMES\n",
        "\n",
        "    a = state[0]\n",
        "    b = state[1]\n",
        "    pro = [abs(a)**2,abs(b)**2]\n",
        "    result = np.random.choice([0,1], p = pro, size = num_meas)\n",
        "\n",
        "    return np.array(result)\n"
      ],
      "metadata": {
        "colab": {
          "base_uri": "https://localhost:8080/"
        },
        "id": "7g4GEErXIcY6",
        "outputId": "36cc892c-cb8f-4145-8f48-76c1823362fb"
      },
      "execution_count": null,
      "outputs": [
        {
          "output_type": "stream",
          "name": "stdout",
          "text": [
            "[1 0]\n",
            "<0|0> = 1\n",
            "<0|1> = 0\n",
            "<1|0> = 0\n",
            "<1|1> = 1\n"
          ]
        }
      ]
    },
    {
      "cell_type": "markdown",
      "source": [],
      "metadata": {
        "id": "Cki7Dq4E5--m"
      }
    },
    {
      "cell_type": "markdown",
      "source": [
        "\n",
        "##**I.2 Quantum circuit**\n",
        "---\n",
        "\n",
        "\n",
        "\n"
      ],
      "metadata": {
        "id": "GneHuVHMn4Qj"
      }
    },
    {
      "cell_type": "markdown",
      "source": [
        "내용"
      ],
      "metadata": {
        "id": "51efKlVwoPY-"
      }
    },
    {
      "cell_type": "markdown",
      "source": [
        "###Codercise"
      ],
      "metadata": {
        "id": "CbaydA41oNka"
      }
    },
    {
      "cell_type": "markdown",
      "source": [
        "---\n",
        "\n",
        "**codercise I.2.1**\n",
        "\n",
        "![image.png](data:image/png;base64,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)\n",
        "\n",
        "\n",
        "\n",
        "위 회로를 코드를 아래 코드를 통해 구상하라.\n",
        "\n",
        "```python\n",
        "import pennylane as qml\n",
        "\n",
        "def my_circuit(theta, phi):\n",
        "\n",
        "    qml.CNOT(wires = [0,1])\n",
        "    qml.RX(theta, wires = 2)\n",
        "    qml.Hadamard(wires = 0)\n",
        "    qml.CNOT(wires = [2,0])\n",
        "    qml.RY(phi, wires = 1)\n",
        "\n",
        "    return qml.probs(wires = [0,1,2])\n",
        "```"
      ],
      "metadata": {
        "id": "HLPyfYGxob_K"
      }
    },
    {
      "cell_type": "markdown",
      "source": [
        "---\n",
        "**codercise I.2.2**\n",
        "\n",
        "![image.png](data:image/png;base64,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)\n",
        "\n",
        "위 회로를 pennylane을 통해 완성해라.\n",
        "\n",
        "그리고 나서 QNODE를 만들고 주어진 device인 \"default.qubit\"에서 회로를 실행해라.\n",
        "\n",
        "```python\n",
        "import pennylane as qml\n",
        "\n",
        "dev = qml.device(\"default.qubit\", wires = 3)\n",
        "\n",
        "def my_circuit(theta, phi, omega):\n",
        "\n",
        "    qml.RX(theta, wires = 0)\n",
        "    qml.RY(phi, wires = 1)\n",
        "    qml.RZ(omega, wires = 2)\n",
        "    qml.CNOT(wires = [0,1])\n",
        "    qml.CNOT(wires = [1,2])\n",
        "    qml.CNOT(wires = [2,0])\n",
        "\n",
        "    return qml.probs(wires = [0, 1, 2])\n",
        "\n",
        "my_qnode = qml.QNode(my_circuit, dev)\n",
        "\n",
        "theta, phi, omega = 0.1, 0.2, 0.3\n",
        "\n",
        "my_qnode(theta, phi, omega)\n",
        "```\n",
        "```\n",
        "결과\n",
        "tensor([9.87560268e-01, 0.00000000e+00, 0.00000000e+00, 2.47302134e-03,\n",
        "        2.48960206e-05, 0.00000000e+00, 0.00000000e+00, 9.94181506e-03], requires_grad=True)\n",
        "```"
      ],
      "metadata": {
        "id": "RNgnfZhgqLka"
      }
    },
    {
      "cell_type": "markdown",
      "source": [
        "---\n",
        "**codercise I.2.3**\n",
        "\n",
        "![image.png](data:image/png;base64,iVBORw0KGgoAAAANSUhEUgAAAbcAAAC+CAYAAAC270GXAAAgAElEQVR4nO3deXwTdfoH8E8BuSlHqwIWnVARy1XBVRHQTpSz3EWUy00iolYURIrLCpJEXFTk2irisZBUtkhxe8hRWkUy5RBQkEuuCiTlkquAgNBK6/z+6O879kjSHJNMkj7v1ysvpUm+82SazjPfO0wURRGEEEJICKmldACEEEKI3Ci5EUIICTmU3AghhIQcSm6EEEJCDiU3QgghIYeSGyGEkJBDyU0GkZGRCAsLC8nHa6+9pvTpJYQQt1FyI4QQEnIoucno0qVLEEUxJB7JyclKn05CCPEYJTdCCCEhh5IbIYSQkEPJjRBCSMih5EYIISTk1FE6AEIIIfY9//zzSofgM1FRUTAYDD4rn5IbIYQEKLPZjNLSUqXD8Am9Xu/T8im5EUKC2vbt27Fr1y7k5+fj119/xfXr11GrVi00a9YMUVFRiImJwcMPP4yYmBilQ/XI0KFDsXTpUqXDkM2ZM2fQpUsXnx+HkhshJOh89913SE1NRVZWFi5fvuzSe9q1a4cRI0bg2WefRYcOHXwcobwiIiKUDkE2Z86c8ctxvB5QYjab5YjDLkEQYLPZfFY+ISS4rFmzBo899hh69+4Nk8mEy5cvo0OHDnjuuecwb948fPjhhwCAVq1aYfny5Zg9ezZGjhyJVq1a4ZdffsF7772Hjh07YuzYsdi/f7/Cn4b4klfJrbi4GDqdDhs2bJArngp0Op1PkychJDicP38eY8eOxZAhQ7Blyxa0bt0as2bNwsGDB3HgwAEsXboUU6dOxaBBgwAADRs2xLhx4zBz5kysWrUKZ86cgSAImDBhAgBgxYoV6NKli08HNBBleZXc6tWrBwAQRVGWYCrTaDQwGo1UeyOkBvv222/RrVs3rFixAg0aNMD777+P06dPw2g0utWPFhcXh88++wwnT57ESy+9BAAwGo3o06cPTp8+7avwQ8rJkyeVDsFlfp3nZjabodPpoNPpYDAYqk1aBoMBHMdBEAQ/RUgICSQrVqxA3759cfr0aQwcOBAHDhzAG2+84VWZUVFRWLJkCXJycnDvvfdiw4YN4HmemildwPM83nzzTaXDcIlfkpsgCAgLC0NeXh70ej30ej14nodKpYJOp3Oa5HieR0pKij/CJIQEkFWrVmHs2LEAgNdffx1r166FSqWSrfx+/fph+/bt6Nu3L44ePYrBgwfjl19+ka38UBMfH4/jx48HzahTnyc3QRCgVquh1+thMpnAcRw4jgPP87BarVJtzpG4uDgaWEJIDbNjxw4888wzAIAZM2Zg/vz5PjlOREQEcnNzMXDgQBQUFGDs2LEoKSnxybGC2VdffQWLxQIA6Nixo8LRuManyc1ms0GtVoPjOLsdtxzHQa/XQxAEhx27Wq0WHMfRwBIXeNJ8a7PZ6MaBBJwXX3wRAPDSSy/hnXfe8fnxMjIy8NBDD+HHH3/Eyy+/7PPjBZP9+/fjpZdeQlFREZo2bYo77rhD6ZBc4tPkxhKSRqNx+BqtVgugrGPXEY1GQ02T1RAEodrkZjabq9wkcBxXbdMwIf70j3/8A3v37kX37t2xZMkSvxyzbt26+M9//oNatWrh888/R1ZWll+OG+hKSkowceJEXLp0CUDZeYqMjFQ4Ktf4NLnl5eUBKLuAOsKaKQE4vMDyPB+UNQybzQadTgeVSoWwsDCpj5E9VCqVSwNrXDmO0Wh0WPtlcbDmYLVaXeF5k8kElUoVdOeXhJ5Dhw5h7ty5AOCzpkhHunTpIh3b2c12TfLaa69h8+bN0r/Dw8NRv359BSNync+Sm81mk2oSzpJbeY6aHnmeB8dxQfeF4zgOJpMJPM8DACwWC0wmk/SwWCxIT0+HWq32KrHodDqYTCanz2s0Guk8lv/dsDj1ej01/RLFLVq0CEBZs2SPHj38fvypU6eiU6dO2LNnD5YvX+734weS//73v/jf//5X4WdNmjRRKBr3+TS5uYolP1bTs4ddfIOxduEoyXMch6lTp8Jms3mcWKq7gWB9nizBVn4fYzAYkJKSEpTnV07FxcWYN28eYmNjUb9+fdSpUwccxyEpKYlG0vlYYWEhPvvsMwDAlClTFItj0qRJAID//Oc/isWgNIvFgmeffRa3bt3Cvffei0aNGgEAWrZsqXBkrvNZcqtcM3CmumZJ4K+BJcE4581ms0l9i464WrutLCUlxWGfJuuHc9bnWR7P80F5fuUiCAJat26N6dOnIz8/H8XFxSgtLcXJkyfx8ccf47777sPHH3+sdJgh66uvvgIADBkyBO3bt1csjgkTJqBZs2bYtGkTDh06pFgcSiosLMSYMWOQlpaGCxcuID4+HrfffjvuvvtupUNzWVBtVhqMc95YjSwuLs7u8+zzVK5ZuVO+o8TpqGxHNxFxcXFOa8+h7IcffoBarZYSWlFRkfTcn3/+iZs3bwIAJk6c6LdBDjVNdnY2ACAhIUHhSIBhw4YBANavX69wJMp46qmnkJqaigMHDuC3337D66+/jgsXLqBOneBZaz+gklt1TWIajSbo5ryxZGEvebHBJBaLxaOam81mc/o+e4nPWTMmm3IRTOdXLuPHj0ejRo3w+++/O31dWFgYXn75ZVitVj9FVnOwv5W+ffsqHAnQu3dvAKgwmCJUsT54s9lc5fqak5ODcePGoXv37njqqaeCZhoAEGRb3rABEWazOWgWPGXJpPxoT0EQkJeXh7i4OK8ukmaz2WGNj9UYbTZbhXNVUFAAwH6y9bT2GOzWr1+Pn3/+2aXXiqKI+vXr47PPPsO7777r48hqjvz8fFy9ehVt27ZFq1atlA4HjzzyCABg9+7dCkfiGwaDAQUFBQ77+jmOQ3h4OPbt24eFCxcC+KvZOFj4LLmxi6jc2Jw3V5Kbv2ogf/75p9MY7CUNQRCcjnD0FrsL1mg0FWppbMSpoxofx3EVFke9evVqyNfkMjIy0LBhQ9y4ccOl19+6dQtpaWnSRGPivW3btgEoW/fRm+/bqVOnAJTNz/KmnDp16uC2225DQUEB8vPzUbduXY/LChRs4Fr5a4Ber68wHYu9zmq1YtmyZQCABQsW4MqVK9K4h6AhegmA+M0331T5uV6vFwGIAESr1eq0DK1WKwIQOY6r9nhWq9WlMkVRFFevXi3F4I/HpUuXKhzfZDKJAESTyVQlNp7nXfq8zmi1WlGv19t9zlH5AEStVuuwTI7jxC1btojJycl+PXf0oAc97D+GDh3q1XWCXQ9YeXq9XrRYLE5fb7PZRJVKJb7yyivStZzjOIfXG3fs27dPisOXfFZzC5QM7484Tpw4Ybf25qy/Ta6Rn45qyPZqjK6sGFNZeHg4WrRo4XmAQeDChQvV9rVVVqtWraAaORborl27hsLCQjRp0sSrXadLSkpw6tQp1KlTB1FRUV7FdPr0ady6dQtRUVGKDaTwtgWMLeAgCAL0er3L3Tk5OTmwWq145pln0KtXL2i1WhiNRqnWFxTdQt5mR8B+zY3VWgBUe5fA7ipcqcno9Xqvazxyi4iIEIGqNTeO40RHp9jZc6IoVqiZOqqlarVah7Uwe3dZPM+LPM87PKYoitLvi9XcJk+e7PT1ocBgMIgNGjRw+U66QYMG4t/+9jelww4py5YtEwGI48eP96oc1rITHR3tdUwqlUoEINpsNq/L8lTt2rU9rrlZLBbpulrdNbiy4cOHiyNGjKjwM6vVWqEW50rrmT3+qrn5bLRk5TZcV7hSozAajW7VPJTkbH5b5ZoVO0fsTov9l911qdXqKjU9R9MLgKo1VjbnTa/XVxt3TRtYMmjQIGmovyuKi4ulrViIPFjrwMWLFxWO5C+FhYUAgObNmyscifvMZrO0gIPFYnHrb3rTpk3IzMxE//79K/ycLYBvMpmkRfEDmc+SGxvZ6Ap20a7uF8CqwsFQJXY2v81esmfnwGw2V1iy65577oFWq0VcXJzdFU4cNW1WvgEwGo3Vfsmrm1oQqh588EEMHjzYpTXzGjVqhIiICEycONEPkdUcrIk3UKZYnDt3DlevXkVERATCw8OVDsctgiBAp9NJ24q5+zfNNnHt16+f3ee1Wq2U4JxtV6Y0n85zYxdYZxODy1/oq0tubLPTQMb2p2Nt00ajscoXgC2HxT47W9QYqJi4BUGQan5sV/Ly2Pmylyx5nkdBQYFU62NrS1YXe7DUiuX2xRdf4M4770SDBg0cvobNg0tLS8Ntt93mx+hCX4cOHQAA+/btqzCBXim7du0CULaYcrBh1xO2/5o7zp8/j+zsbAwZMgRt2rRx+DqtVistiRiwCc7bdk046HMTxbI2Wta35Kh9lrXhVtf+ytrS3W079gdHfW7OWK1W0WQyiXq93uG5ceXXo9Vq7Y7GLH8cV2m1Wun81qQ+N6awsFAcMGCACEBs2LCh1MfG/r99+/bi1q1blQ4zZPXo0UMEIK5bt87jMuTqc5s2bZoIQJwxY4ZX5XjL3T43Nn7B0+tkSkqK02t6Zez67c7xgr7PDSirobCagL3JgmyrFkebmZZnNpvtLgAcrDiOg1arrVIjY+ep8gRtR3dH1e1152qTBFulIFTOrydatGiB7OxsbN26FZMmTULDhg0BAEOHDkVGRgYOHz6syEr1NQVrBvv6668VjgRYs2YNAKBPnz4KR+K68v3qnv4d5+bmIj4+3uXPrdVqwfN8YNbevM2OcCHLl6+dsZoEG01Z3ei98sfxdab3lCc1N3vK107Z3D+LxVLtvBRntT9XVT5GTay5VRYdHe201YHIa//+/SIAsXHjxuLNmzc9KkOOmltOTo4IQGzbtq3HZcjFnZqbO9dTe3bs2CECEJOTk916HxuV6Wz+bHkhUXNjDAaD1FHMRgDm5eXBYrG41C7M+pSqW1k/2HEcB6vVCp7nYTKZpM5gg8Hg9E7MYDB4tZu2qwN6CPGlTp06oV+/frh+/Tr+/e9/KxbHRx99BKBsvdFgwVp8vBmTkJubCwAOB5I4wvM8tFqtVHMMFH6bmehK06MjrEmyJozkK/8Z3fm8JpNJalZ0532sadiTzmdC5DZp0iTk5ubivffew/PPP+/VhG5PrFmzBmvXrkWTJk2CakSsswUjXHHt2jXk5OQgMTER9913n9vvZ4NLUlJSAuYmOaB2BbCHXXxr6ig+V7E+PHdvADwdVUWIL8THx2P48OG4cuUKkpKS/Hrs0tJSTJ8+HQDw1ltvoWnTpn49vjfKj6z2RE5ODr7//vsqc9tcxa4/gVR7C/jkxmptwTC3jRDivTlz5qBOnTowm81+3TtvwoQJOHjwIHr16oVp06b57bjeYttUOVvUoTo5OTlQq9VuN0mWp9frYbPZAmbPzYBPbs52miaEhJ77778fn3zyCQDg5ZdfRmZmps+POWvWLJhMJtStW1fqcwsWrEnS05rb/v37sWzZMvTv3x/16tXzOA5WewuUPSEDOrmxPdBCfSAJIaSi8ePH45///CeAsp2509LSfHasmTNnYvbs2QCA1NRUxMbG+uxYvqDX6yGKosfv79y5M3bs2OFVra18LJ6siuILAb1ZaU0aSEIIqWjOnDkoKirCwoULMWrUKBw7dgxvvvmmbOXfuHEDL730EpYvXw6gbFDWU089JVv5/iLH9fHhhx+WIZLA2Q0GkKnmxia7yo2aJAmp2RYsWCDVqmbMmIG+ffvihx9+8LrclStXonPnzli+fDkaNmyIjIwMaiEKMV4ntwMHDqBnz55yxFKF1WqlgSSE1HAzZ85EZmYm2rRpg2+//RaPPPIIxo0bh82bN7tdVlpaGniex+jRo3H8+HE88cQT+PHHHzF8+HAfRE6U5HWzJFvwlBBCfGXYsGHo3bs3DAYD5s+fj9TUVKSmpiImJgb9+vXDo48+ik6dOlXoeyosLITVasXevXuxefNmZGdn48KFCwCAli1bYubMmUEzl83f0yJCQUD3uRFCCNO4cWPMmzcPr776Kj799FMsX74chw4dwqFDh7Bo0aIKrz127BgiIyOrlPHggw9Cq9UiMTERtWvX9lfoXgmEtTaDESU3QkhQueeeezBnzhzMmTMHeXl5yMvLw86dO3H48GGcPn0aN27cAFC2yWibNm3QsWNHPPLII3jyySfRqVMnhaN3z5EjR5QOIWhRciOEBK24uLgKk5dtNhtUKhWio6Nx9OhRBSOTR3R0tNIhBK2AnudGCCGEeIKSGyGEkJBDyY0QQkjIoeRGCCEk5NCAEhnt3btX6RAIIYSAkpus1Gq10iEQQggBJTdZdO7cWekQCCGElEPJTQa0kzUhhAQWGlBCCCEk5FByI4QQEnIouRFCCAk5lNxkEBkZibCwsJB8vPbaa0qfXkIIcRslN0IIISGHkpuMLl26BFEUQ+KRnJys9OkkhBCPUXIjhBAScii5EUIICTmU3AghhIQcSm6EEEJCDi2/RQghAerkyZNKh+BTbdq08VnZlNwIKSc/Px+HDx/GqVOncPnyZQCAyWRCx44d0a5dO3Tt2lXhCElNYjKZoNfrlQ7DZ0RR9FnZlNxIjZeVlYXMzEzk5ubi3LlzVZ5/++23pf+vV68ennzySQwZMgSjR49GeHi4P0MlNdSrr76qdAiyOn36NDIyMnx6DEpupMZatGgRkpOTYbVapZ9FRUWhc+fOuOeee5CWlobLly9Dq9Xi6tWrOHToEA4dOoTs7GxkZ2dj0qRJmDhxIpKSktC6dWsFPwkJdc899xweeOABpcOQzYgRI3x+DFkGlKSlpclRjF2CIPisbFIzff3114iJicGUKVNgtVoRGxuL9957DwcPHsTJkyeRnZ2NJUuWoEWLFgAAvV6P9PR0HDx4EGfPnsWyZcvQr18//PHHH1i4cCFUKhXmz5+v8KcihJTndXL74osvkJSUJEcsVQiCALVaDZvN5pPySc0zbdo0DBs2DIcPH8bDDz+M9PR07NmzB//4xz8QExNT7fvvvPNO6HQ65OTk4Mcff8TTTz+NP/74A0lJSRg0aBDOnj3rh09BCKmO18mttLRUjjjs4nkeHMfBaDT67BikZigtLUVCQgLmzZsHAHj33XexY8cOJCQkeFzm3/72N6SlpSE9PR1RUVFYt24dHnvsMezZs0eusAkhHvLrPDebzQaDwQCdTgedTgez2VxtrUyj0bj0OkKcGTRoEDIzM9G6dWts3LgR06dPl63shIQE7Ny5E3369MHRo0cxYMAA7Nu3T7byCQkUp06dwqpVq5QOwyV+S25qtRoqlQocx0Gv10Ov1yMvLw8qlQpms9nh+wwGAziOo7434rFx48YhJycH0dHR2LBhA9RqtezHuPPOO/HNN98gISEBZ8+exdNPP43CwkLZj0OIkrRaLaZMmaJ0GC7xS3JTq9UQBAEWiwVarRYcx4HjOGkOh06ng8FgcPh+nueRkpLij1BJiHn//feRmpqKZs2aISMjw6V+NW+kp6fjiSeewJEjR/DCCy/49FiE+NPbb78NQRBQv359pUNxic+Tm9lshiAI0Ov14Hm+yvOsZmY0Gh02PWo0GgiCQE2TDnhbq7XZbCF5bnfv3i01Py5duhRdunTxy3FTUlJwxx13ICMjA0uWLPHLMQnxpY0bN+L9999HaWkpOnTooHQ4LvF5ctPpdABgN7ExGo0GABw2T7KBJc6aLwMRSxr2HnIRBEGWJluVShVyCY6t7PDKK694NXDEXVFRUViwYAEAYObMmbh69arfjk2I3H799VdMmTIFN27cAADcf//9CkfkGp8mt/IXS2fJjT2Xl5fn8DUajSbomiYFQYDRaIRKpZIG0JjNZhiNRqjVauh0Oq8Sis1mg9FodNqk6wrWDxpsNw/ObNiwAWvWrEHz5s3xr3/9y+/HHzt2LAYOHIhLly5JiY6QYPTCCy9UGCB17733KhiN63ya3NjFkuM4l17vrOmR5/mgaz7TarWIi4sDUJacDQYDDAYDTCYTLBYLgL/6Iz2h0+mkcrxlMBhQUFAQVOfXmU8//RQAMGXKFMWWyGLzPwOlafLLL7/EiBEjEBsbi65du2LUqFE+XwKJBLeFCxdWmNoSHh6OyMhIBSNynU+Tm7OaWHnla3WOLvTBOueNnQOtVlvlubi4ONhsNo+Sm81mc/mmwVUajSbozq89586dw//+9z8AwIsvvqhYHDzP49FHH8X58+fx1VdfKRbHtm3bcN9992HMmDHIzs7Gvn37sGfPHqxevRojRoxA165d8fPPPysWHwlM69evx+uvv47Lly+jdu3aAIDGjRtTcivPnYuws5oDazoLptqFIAh2E1t5niQps9ks9VXKhef5kBi4s27dOgDA0KFDcccddygay8iRIwEAa9asUeT4W7duRY8ePaQFoYuKiqTnbt68CQA4duwYOnfujAMHDigSIwk8NpsN8fHxiIqKwqhRo1BaWormzZvjjz/+oOQGOE9UnmDTCIJpzpuzc2A0GsFxXLXJz9F7nfVjOovHWd8az/PYsmWL2+UGEvb96Nu3r8KRAAMGDABQNtpMCc8++yzq16/vdFDLtWvX0KBBA/z973/3Y2QkkLEBfCdPnsT169cxaNAgDBkyBBcvXsTtt9+udHguCbiduAsKCpw+H0xz3lgSYf1ujM1mg1qtBsdxFVakd1V1TZKORlDqdDqo1WppkIs9cXFxSE1NdTumQLJz504AQI8ePRSOpGxk2Z133onTp0/7feNJk8kEq9VaobbmyM2bN/HTTz9h9erVfoiMBAONRoPt27cjLS0N/fv3x/jx49G0adOgqbn5dMsbXzRvaTQaaTFlufuc5Mb629iyY+xnZ8+exfr16z2OXxCEapNb5RGUOp0OcXFxMJlMAMoGkAiCYLf2l5OTg/j4eI9iCwRHjhwBAHTq1EnhSMrExMTg3LlzOHr0qE93Hq4sMzMT9erVQ3FxsUuvb9CgAdatW4chQ4b4ODISCMq34lQeH8FxHOLi4lBQUICWLVuif//+iI6OxpUrV5QI1SNBt59b+Tlv1Q2B91ff0Z9//mn356y/rXycNptNWnLM0yH8zhK72Wyu0swpCAI0Gk2FRKbVamE2m6skN47j0K1bN+nfV69eDao+uAsXLuDPP//EHXfcgVOnTnlVVklJCQB4XU7Tpk0BAPv373dYY/aFn376yeXEBgDFxcXYvn17UP2+K2O/q5KSkqD+HIwvkglLamzwGLuWlL+msGlLQNkIyeXLl3s95cjvRC8tW7ZMjIqKsvscx3EiAJHn+WrLASACEPV6fbWv1ev1LpW5evVqqVx/PC5dulTlM2m1WrvxcxxXbfzOPr+9ckVRtPtzk8lk92cWi6XKzy0WiwhATE5O9uu5owc96OH4sXv3bo+vF+WvG6w8juNEvV4vWq1Wh6//8MMPRQDinXfeKb3H3jXDEwkJCSLgdfpxKuhqboyrd2X+aLo8ceJEldqbo/42AF7PJ+M4zmHf5D333ONSGXl5eS4NZAkPD5c27QwGJSUlOHXqFOrUqYOoqCivyjp16hRKSkoQFRWFOnU8/1MpLCzEtWvXEBkZicaNG3sVkzvOnTuHoqIiiKLo0uvDwsLQqFGjoOlTsUfO338guHLlite1N5vNBp1OJ3Vn6PV6l/72d+3ahd69e+OTTz7B5s2bpcUn9Hp9cNTivM2OzmpuPM9LGd8Zq9Uq3VG4UnNz9XX+EhERIQIVa25ardbhnQmr0VZmsVhEvV5foaZltVqr1LxMJpPDmivP8xXurkwmU5W7M4vFYrc2x17fuXNnqeY2efJku68LVBcvXhQBiJGRkV6XFR0dLQJwenfripEjR4oAxFWrVnkdkzs++ugjsVatWm7VEL788ku/xig3di2Jjo5WOhRZGI1Gr2puVqtVut44+pu3Z8+ePSIA8YMPPqhQFqv9udJy5ow/am4+HS3Jak3u1FKqu6NgdwyBfufgaLAGULXPjM3dEwQBiYmJFSZS25vXx3Gcw3Oq1+srrHqSkpJS4VgGgwFGo9HhebbZbBg+fLhrHzIARUREoGHDhrh48SKuXbumdDgAymr2APxek3j++ecRHh7uUq2zXr16uPfeezFq1Cg/REb8QRAEqY+X7cjiqpycHABA//79pZ9xHAeDwQC9Xl+h7EDl0+RWvknOWYJjz7GtcJzJy8uTFsQNRKyzln0me0Pyyye98ospGwwGLFmypMLz9lZ5Yc/bO6c8z0sJTqVSYceOHTAYDFCr1QgLCwMAp0t2sT32glnHjh0BIGB2xGarf7Rv396vx61Xrx6WL1+OkpISNGnSxOHrwsPDUVxcLI2kJcFPEASo1WrwPA+r1erWnNji4mLk5uZi/PjxdkccGwwGWK1WaXBcoPJpcmOTrqvDEkB1K26w2o0nk5f94cSJE1Jfm8lkgkajsbu8lslkku6C2KjJ8otHl78psDesH/hrNRF72JevV69e0ioUcXFxEEXRpRGmnkwqDySPPPIIAGDz5s0KR1K29NXvv/+Ojh07KtJ3OWjQIHz99dcoLS1F7dq1pWWUAOC2226T+tk2btyIXr16+T0+Ij82j5bneY/Wns3JyYHFYqlQa6uM7cfJ+vMCkrftms763ETxrxE6zvrIWJtwdX0b3o4y9BV7fW6eKv8rYe3l9lgslmrbvbVarVvt7BaLRRptGax9bqIoipmZmSIAsWfPnl6VI0ef25tvvhkQ5/HatWvivHnzxG7duokAxLCwMLF79+7ihx9+KJaUlCgam5yoz+2vsQ6efm8TExPFnj17ilevXq32ta5c3+3xR5+bz5ObKDo/2SaTKWgHkjByJjeO46TzxPN8tTcFzr7A7n7BeZ6XXh/Mya2kpERs0qSJCEDcs2ePx+XIkdzatm0rApBtCLW3bty4IQIQGzdurHQoPlHTkxtLNp5+3w4fPiwCEGfPnu3ye3ier/ZaVFnQDyhhWGemSqWqsDCvwWCATqdzaWgpe0+wN5lVx2KxSLuXX79+vdrXOtpk1N3thsxmM+Li4gJ+1RdX1K5dW/qefPzxx4rFsXz5chw/fvE3uuQAABcuSURBVByxsbEB25ROQgfbP5LneY+/b7m5uQCAfv36ufyeQG2e9NvakmwPM0EQoNPpoNPppLUVXRn5aDabXRpwEsxYUjMYDOA4DhcvXnR6bticFUd9b64OELDZbEhJSQn4EajuSExMBAB89tln2Lt3ryIxfPDBBwDKdgInxNfYmrve7PGYm5uLMWPG4KGHHnL5Paz/TRCEwNrw2NuqnyvNkt5iTQ2B2CQpivI1S7LP52wemz3eNnnZe38wN0syr7zyighAjI+P9+j93jRLsuakbt26eXRsX6FmyeDiTrMkYH9FJFfl5uaKAMQvvvjC7fdarVapedIVIdMs6S1WawulmoU95Rczdufuy9smr1BtMps9ezZatWqF7OxsvPvuu3477oYNG6TpKv/617/8dlxSc7Eakzd7PObm5qJr165uNUkyrBWpui21/CkokltKSorsG3MGKrYwNPFes2bN8NFHHwEA3nzzTaxYscLnxzx8+LD0XZ0+fbrT4dSEyIXNh/X0RvXEiRPIysrCgAEDPN7gl/X1lV+EQkkBn9zYBOdQH0hCfCMhIQHvvPMOAGDs2LFYuXKlz4518OBBDB06FGfOnMHw4cP9WlskNRvbgcRTubm5OH78uEe1tvIcze1VQsAnt5owkIT41owZMzBt2jQAwOjRozFv3jzZj5GdnQ21Wo38/Hz07dsXq1atkv0YhDjC87xXrVtFRUVISEjA448/7nUcWq02ILYbCvjkZjQaa0yTJPGduXPnSs0l06ZNw1NPPYWjR496Xa4oipg+fToGDhyI8+fPY+TIkVi/fr1XuwgQ4i6TyeRV3/mrr76K9PR0r+NgIycDoaXN6+QWHh4uRxx2sQWGQ30gCfGPWbNmYcWKFWjWrBnS09PRrl07TJs2zeH2Qc7cunULycnJUKlUeP/99wGULVq9atUq1KoV8PeMhIQ8r/8KR4wYYXdxXzlwHOfVnA1CKhs9ejQOHDgg3VnOmzcPHMdh8ODB+PTTT3H48GGH7z1z5gy++uorPPfcc4iIiMDkyZNRUFCAxx9/HHl5eXQTRkgAkaXtpG3btnIUYxf1tRG5tW7dGiaTCS+++CIWL16M//73v1i7di3Wrl0LAGjUqBHuvvtunD59GgAQHx+PCxcu4OLFixXKUavVSExMxMiRI/3+GUjNEyhbOAUL6hggNVb37t3RvXt3LFiwAFlZWdiwYQO2b9+OEydO4NChQ9Lr2P83b94cDz30ENRqNQYPHixtrUOIr3Xt2lXpEIIOJTdS491+++2YMGECJkyYAAC4cuUKTp8+jd9++w2iKKJRo0Zo2bIlWrZsqXCkpCZ69tlnlQ4hKFFyI6SSZs2aoVmzZkqHQQhmzZqldAhBi4Z1EUIICTmU3AghhIQcSm6EEEJCDiU3QgghIYcGlMhIqU0xCSGEVETJTUZqtVrpEAghhICSmyw6d+6sdAiEEELKoeQmA1r/khBCAgsNKCGEEBJyKLkRQggJOdQsKYNQHkgSGxuLRYsWKR0GIYS4hZKbDPbv34/CwkKlw/CJ2NhYpUMghBC3UXKTUSgNLNm/fz8mTZqkdBiEEOIRSm4yio2NRfPmzZUOQxb79+9XOgRCCPEYDSghhBAScii5EUIICTmU3AghhIQcSm6EEEJCDg0oIaSGyM/Ph81mAwCUlJRg06ZNuOuuuxAdHa1wZMSRt99+O6RGYVfmy89GyY2QELVr1y6sXr0a3333HXbs2IGSkhLpuaKiIsTFxQEA6tevj+7du6N3794YOnQoOnXqpFTIxA5BENCsWTOlw5DdlStXfFo+JTdCQsyKFSvw8ccfY+vWrRV+3rZtW7Ru3RpbtmxBnTp10L17d5w8eRIFBQUQBAGCIGDmzJl48sknMXHiRAwfPlyhT0Aqs1gseOCBB5QOQzYjRoxARkaGT48hS5/b8ePH5SiGEOIFQRDQq1cvjB07Flu3bkVkZCRefvllrF27Fr/99huOHTuGb775BkBZbW3z5s2w2WwoLCxEZmYmnn/+eTRp0gTfffcdEhIS0K9fP/z4448KfypCPON1cktPT5eaN+Rms9kQFhYm9RMQQuwzGAxQq9XYunUr2rZtiyVLluDChQtYvHgxBg4ciPDwcIfvbdGiBYYNG4bPP/8cFy9exPz589GqVSt88803ePjhhzFv3jw/fhJC5OF1crt69aoccdjFcRw4joPZbPbZMQgJdqNGjYLRaAQA/POf/8SxY8fw0ksveVRW3bp18frrr+PYsWN49dVXAQDTpk3DCy+8IFu8hPiD36cCmM1m6eFKjUyj0SAlJcUPkRESfAYOHIi0tDRERkZi7dq1mDNnjizlNmjQAMnJyfjyyy9Rr149fP755xgzZowsZRPiD35LboIgQKVSIS8vT/qZTqeDWq12muR4nofNZoMgCP4Ik5CgMXr0aGRnZ6Nt27bYuHEjBg4cKPsxRo0ahe+++w4RERH48ssvkZiYKPsxSPBYuHAh7rrrLqXDcIlfkpvZbIZarYbJZILJZIJWq4VWq4XFYkFcXBxUKpXDBMfzPDiOo9obIeUYjUasXLkSkZGRyMrKQufOnX12rJ49eyIzMxN16tTBJ598guTkZJ8diwQui8WCN954A7Vr11Y6FJf4PLnZbDbodDro9XrwPF/leYPBAI7jnNbg9Hq9y82YhIS6TZs2wWAwAABMJpNPExvz2GOPwWQyAQAmT56Mn3/+2efHJIGjsLAQEyZMQElJCVQqldLhuMTnyY11dHMc5/A11TU9arVacBxHTZNO2Gw26YLn7vvoxiG4zJw5EwAwffp0DBo0yG/HHTdunDSw5K233vLbcYny2CAjAOjQoYPC0bjGp8mNXTiBsgTliEajAQCnTY88zwdd0ySrtarVaqjVauh0OunB/i1XwjYajR4lN47jKvyeSGBLS0vD5s2boVKp8O677/r9+O+++y6aNm2KrKwsfPvtt34/PvG/xYsXIzc3V/p3TEyMgtG4zqfJjV24ndXaKr/eUQ1Co9E4fT4QcRwHk8mEuLg4CIIAvV4v9TtaLBbo9XopyXnDYDBINwievr+goCCozm1N9fHHHwMAkpKSFDl+ixYtMHXqVADAkiVLFImB+M/GjRvx1ltv4dy5c9LPIiMjFYzIdT6vubmifPJzVJNhA0uCsYbBRohWTvIcx0n9iZ7W4Gw2G1JSUuz2Z5a9YAVGhIWhx8LdTsvR6/Xgu8ciLCwMM7d4FArxsd27d2PTpk3SyiNKYcfOzMzEyZMnFYujsszMTLzxxhsAgF9//RVTp07F999/r3BUwevMmTOYMmUKLl++LA0iCQ8Pp+QGOL6oV1b+eWcJUaPRwGg0Bl0NQxAEh82y7LN72uRqNpud1NquIHvuVGR0n4fFU7o6LYfjOKh7dkYPAIdOnvUoFuJbq1evBgA8/fTTisYREREhxcBiUtL333+PmJgYJCQkYM2aNQCAGzduYMmSJejZsycGDx6MS5cuKRxl8BkyZAj27duH9u3bo7S0FE2bNsXvv/9OyQ1wvebmKpYggim5sZqmoyXKWFLztFnRWV9b0fbFmLmkFd5ZOBHOU1uZuF6dcNmjKIg/fPfddwCA+Ph4hSP5KwYWk1IsFgt69uyJM2fOACjb7YC5efMmgLIYY2Njfb4Kfai5++67sXXrVgwcOBAPPvgg2rVrh9LSUkpuniooKHD4HMdxQTewhCVie82GbCV2R9MkXCnbca34CrI/m4ndupmY2L1+xWfWvIKwsBFYUekegYu6HRfdjoL4y44dOwAAjz/+uMKRlE0NAIAffvhBsRhu3bqFUaNGoW7duk6XAbx58yYuXrzodd92TZORkYGoqChkZWWhb9++GDt2LIDg6XPz6ZY3vqhhaTQaad6cqwNVlFS5aZadE7PZjJSUFFgsFo8SGyvD4XuPpmOpCZj6TTwq7wR1aE868EASYiqdPv6hGFwA0PjGeY/iIb7zyy+/4I8//kB0dDSaNGmidDho27YtmjZtitOnT+Py5cto3ry532NYvHgxLl68iD///LPa1xYVFSErKwu7du3Cgw8+6IfogoPNZqvwYNcpVpHIzc3F8ePHMWDAAHTo0AFhYWFo2LChwlG7Juj2c9NqtTAajU77sQKJIAjgeV5qOiwoKIDZbIZWq4XVavXZca2bM5CNqZj6WP1Kz+zG9xlngT5dUWVA76mDAICoVuHAMZ+FRjzAmt3atGmjcCR/adOmDX777TecOXNGkeS2cuVK1KpVy6XkBpRt87N27VpKbvhrmhabh2wPx3G4du0aHnzwQammPnnyZH+F6DWfJjc2h8od99xzT7WvYU2T1SW3NWvWYNKkSW4d3xOXL9vvqWL9bRqNpkKser1eWlWCrfrgiYKCAgfn6woO/ZgNDB8LVeXcdvQnbNwDJLzRAZWf2mZZCtRujtYNbWCXC5PJhK+//trjGIk8bty4AaCsGdCbFSJEUQQA/P77716vNPHrr78CAPr06YN69ep5VZYnCgoKpM/jiuLiYsydOzeoRlzL2U9YOaGx0dqs9YctpsFem5KSguXLl2PXrl1QqVTQaDQezaVVStDV3ICyBOjq0HklB5846m/jOA5PPfWUD1dcKcKViwCu36zy821fLEY2gIQqwa7AgllnUbd5a3SpVQt7/v/HV69e9em2RsQ9N27ckOU7LYqibH8bLMkFOlEUZTt/wcZsNkt9jjzPV7nhZso3S3777bdo164dli5dihkzZsBoNEpdKcHQJRQQNTd3v2xGoxF6vb7a13Xu3NmnTX9Mt27d7NbenE2FcD4h3Yqlfdvi+coLQLQcg9RtqRhTrjhnA3Dw7VKssIzADHUzoOgsNi4cj7Gzy+a7ZWSm49CAiYhpBlzZswJJz4zF/1pOBc7OR2m5Zh6dTodZs2Y5Pgbxi23btmHMmDHo0aMHUlNTPS6nqKgIMTExaNiwIQ4cOOBVTAMGDMDhw4eRk5OD9u3be1WWJ3r37i0tCeWK+vXrY9y4cZgxY4YPo5JXcnIyFi5c6FUZOp1O6p+3WCwuvefChQvIycnBgAED0KNHD1gsFgiCALVaDZVKBb1eH/i1ONFLy5YtE6Oiouw+p9VqRQAix3FOy7BarSIAEYBosVhcem0giYiIEAGIly5dqvBzAKJWq7X7HlfOi8SaLo7vFC/O232zwo/1er3D8o8vi5fO6V+PluKYFT+J6Yktqz7Xsqx8AKLVahWTk5NFAOLkyZNdi5H41MGDB0UAYvv27b0q58aNGyIAsXHjxl7HxL73Fy5c8LosT0ybNk1s0KCBne+540d2drYisXrKaDSKAMTdu3e7/V6r1SryPC8CEPV6vVvv/eKLL0QAYm5ubpUyOY7zqMzyEhISfH4d9+lUADa3q7qaGXuejdBxxmw2B0WV2Nn8NnvLkjkcpmzLxmOqEVB9no6pD1TsJSvfRl6ZSpeK7+eOx6P3AkBLxAyeiI82H0Lq6K5ImJuNj0bHoCUA3PsoEqb9Bz/tX4cxt1+Qdj8ngaVdu3YAgCNHjqC4uFjhaIBTp06hsLAQt99+u2JDwxMTE6W5bNWpX78+unTpggEDBvg4qsBgs9mgUqkgCAIsFovbtazc3FwMGDAAffv2rfBzjuOkpQM9Xc/WX3ya3Nhq/oDzBOfqGpQ2mw1Go9GrdRR9jXXasrl49hYlrnxOBEGw/5kubsTzqoHov+0mZnSvPPzjr+Rm/9w2w6PT/oPvfxEhir/i4OqPMLHX/08KaNwVE1ccxK+iCPGX75E+dzy6RgKffr40oM9tTVanTh08/PDDAIAtW5RfH43FwGJSgkqlktbadDagJTw8HEVFRfj888/9FZri2M2yJ1ONdu7cidTUVPTv39/u8xzHwWAwBHyC8/kkbnaxdDZCifVNVdePxmptgXoyGTYKiX2x7K0pabVawfM8dDodbDZb1S/glW14/fYnoXKQ2Bie52UdmEK1tsD1xBNPAADWr1+vcCRATk4OAECtVisaR2JiIhYvXozi4mLUr1/x76RWrVqoVasW6tWrB4vFomgi9ieDwSDV2DyZQ8t+t/369XP6Oq1WC57npalZAcfbdk1nfW4Ma6O1Wq1VnrNYLCIAkef5ao/FcZxX7by+4qjPzWPXvhdfB8R3tt2s9qUmk8lhv5s7WFs6Q31ugWfr1q0iAPHuu+/2uAw5+tyKiorERo0aiQDEw4cPe1yOnPLz88VJkyaJd999t1irVi2xbt26YqdOncQPPvhALCoqUjo8j7nb58aup55eE65duyb26tVLTExMdOn1bAyEy+MH/l/Q97kxbOhoUlJShSY0NvrGlVE8rPktGCZue+X6Nvyrz1S02HzZaY2N0Wq1smwF5HwBZhIIevTogW7duuHEiRNYvny5YnEsWbIEv//+O/r06aPIKEl72rVrh3//+98oKChAaWkpiouLsX//fiQlJSkyB08pOp1O2mrLEzk5OdiyZUu1tTaG9cF5ulmyL/klubFmuE6dOkn7l6lUKqSkpEh7m1WHNUmGdLNZ0W7MH5KAmdu3YeZjzREWFiY9nvzc8ZQGi8UClUrlcYKz2WzIy8sLuC8nqSoxMREAMH/+fEWOX1paigULFlSIhQQG1sXhzcIQubm54HneYX+bPTzPQ6vVIiUlJbCaJ72t+rnSLCkHeDn01Jdkb5b0gMlkEk0mk0fvtdeEQc2SgSs2NlYEIL733ntuv9fbZsk33nhDBCCq1WqP3k/c406zJMdxXnVR7N+/3+PvFWuedKV7SRRDqFnSW2wwCtUsHCs/MtUd3t7pEf+bPXs2AGD69Ol+3Yxz3bp1mDt3boUYSGAwm82w2WwOt9ZyRW5uLoDqB5LYw5pC2U4ngSAoklteXl5oN0fKxJORUXReg8/gwYOlBWx1Op1flr86dOgQnnvuOQBlN5k9e/b0+TGJ+zzdYaSkpAQ5OTnQarV44IEHvDq2s8WY/SngkxubJ+bKcluE1BSLFi1Cnz59kJ+fj2HDhuHcuXM+O1Z+fj6GDx+O8+fPY+TIkfS3GICMRqPHrTdAWa1tw4YNHtXaGDYFymazBUTtLeCTGxtIEvKjJAlx08qVK/HQQw/hhx9+gFqtxs6dO2U/hsViwZNPPokjR46gd+/e+PLLL2U/BvGeHE2S3bt3d2sgiT1arTZgklvA7wqQkpJCQ9QJsaNFixbIzs7G008/LU1SXrRokWzbPM2ZM0daZHjo0KFYtWoVateuLUvZRF6iG1v/2JOcnAyLxYJmzSpvbeweNjI+ELo7vK65+fLLXmPmthHiocjISGzcuBEvvvgiRFHE5MmT0atXL6xevdrjMleuXIlu3bpJiS0pKQlZWVmoW7euXGGTACTXajOBkNgAGWpuf//73302SZJNEAyUk0VIoPrkk0/A8zxmzJiBrVu3YujQoYiNjcUzzzyD+Ph4xMbGOn3/zp07sXbtWqxcuRJHjhwBAHTq1Alz5szB4MGD/fERCJGVLM2SzzzzjBzF2OXp6B9CappRo0Zh1KhRmDdvHhYvXoy9e/di7969ePPNNxEZGYkOHTqgVatWAMp2pR49ejROnjyJAwcOVNjx+f7778crr7yCiRMnKvVRCPFawPe5EULck5SUhKSkJKxevRpff/01NmzYgBMnTmDTpk3Sa27duoWVK1dK/46OjkafPn0wbNgwr0bMEd8IlOH1wYSSGyEhasiQIRgyZAiAsv3X8vPzcebMGVy/fh1A2VYwd911F9q3b4+WLVsqGSqpRlZWltIhBB1KboTUAFFRUYiKilI6DOKmWbNmYdasWUqHEZQCfp4bIYQQ4i5KboQQQkIOJTdCCCEhh5IbIYSQkEPJjRBCSMih0ZIyatGihdIhEEIIAdXcCCGEhKAw0dvlpAkhhJAAQzU3QgghIYeSGyGEkJBDyY0QQkjIoeRGCCEk5FByI4QQEnIouRFCCAk5lNwIIYSEnP8D4DtuzfupF3UAAAAASUVORK5CYII=)\n",
        "\n",
        "이 양자회로는 이전 문제에서의 회로를 실행한다.\n",
        "\n",
        "decorator를 이용해서 위 quantum function을 QNode롤 구현하고, 제공된 input parameter들에 대해서 실행해라.\n",
        "\n",
        "```python\n",
        "import pennylane as qml\n",
        "\n",
        "@qml.qnode(dev)\n",
        "def my_circuit(theta, phi, omega):\n",
        "\n",
        "    qml.RX(theta, wires = 0)\n",
        "    qml.RY(phi, wires = 1)\n",
        "    qml.RZ(omega, wires = 2)\n",
        "    qml.CNOT(wires = [0, 1])\n",
        "    qml.CNOT(wires = [1, 2])\n",
        "    qml.CNOT(wires = [2, 0])\n",
        "\n",
        "    return qml.probs(wires = [0, 1, 2])\n",
        "\n",
        "theta, phi, omega = 0.1, 0.2, 0.3\n",
        "\n",
        "my_circuit(theta, phi, omega)\n",
        "```\n",
        "```\n",
        "결과\n",
        "tensor([9.87560268e-01, 0.00000000e+00, 0.00000000e+00, 2.47302134e-03,\n",
        "        2.48960206e-05, 0.00000000e+00, 0.00000000e+00, 9.94181506e-03], requires_grad=True)\n",
        "```\n",
        "\n",
        "---\n",
        "**codercise I.2.4**\n",
        "\n",
        "codercise I.2.3 회로의 depth는 얼마인가?\n",
        "\n",
        "```python\n",
        "import pennylane as qml\n",
        "\n",
        "dev = qml.device(\"default.qubit\", wires = 3)\n",
        "\n",
        "@qml.qnode(dev)\n",
        "def my_circuit(theta, phi, omega):\n",
        "    qml.RX(theta, wires = 0)\n",
        "    qml.RY(phi, wires = 1)\n",
        "    qml.RZ(omega, wires = 2)\n",
        "    qml.CNOT(wires = [0,1])\n",
        "    qml.CNOT(wires = [1,2])\n",
        "    qml.CNOT(wires = [2,0])\n",
        "    return qml.probs(wires=[0, 1, 2])\n",
        "\n",
        "depth = 4\n",
        "```\n",
        "depth는 4임을 알 수 있다."
      ],
      "metadata": {
        "id": "lP_ea1uctD4J"
      }
    },
    {
      "cell_type": "markdown",
      "source": [
        "##**1.3 Unitary matrices**\n"
      ],
      "metadata": {
        "id": "isjLJtqM6F5e"
      }
    },
    {
      "cell_type": "markdown",
      "source": [
        "내용"
      ],
      "metadata": {
        "id": "lrevLUO_8G7X"
      }
    },
    {
      "cell_type": "markdown",
      "source": [
        "####Codercise"
      ],
      "metadata": {
        "id": "wQVieT_a8bCn"
      }
    },
    {
      "cell_type": "markdown",
      "source": [
        "---\n",
        "**codercise I.3.1**\n",
        "\n",
        "다음과 같이 정의된 unitary matrix \"U\" 를 qubit 적용한 회로를 구상하고 state를 return해라.\n",
        "\n",
        "$$U = {1\\over\\sqrt{2}}\\left(\n",
        "\\begin{matrix}\n",
        "    1 & 1 \\\\\n",
        "    1 & -1 \\\\\n",
        "\\end{matrix}\n",
        "\\right) $$\n",
        "\n",
        "\n",
        "```python\n",
        "import pennylane as qml\n",
        "\n",
        "U = np.array([[1, 1],[1, -1]]) / np.sqrt(2)\n",
        "\n",
        "@qml.qnode(dev)\n",
        "def apply_u():\n",
        "\n",
        "    qml.QubitUnitary(U, wires = 0)\n",
        "    return qml.state()\n",
        "```\n",
        "\n",
        "---\n",
        "**codercise I.3.2**\n",
        "\n",
        "input parameters을 이용해서 Rot Operator를 qubit에 적용하고, Qnode를 완성한 뒤에, qml.state를 이용해서 quantum state vector를 return해라.\n",
        "Rot operator는 다음과 같다.\n",
        "\n",
        "$$ U(\\phi, \\theta, \\omega) = \\left(\n",
        "\\begin{matrix}\n",
        "    e^{-i(\\phi+\\omega)/2}\\cos(\\theta/2) & -e^{i(\\phi+\\omega)/2}\\sin(\\theta/2) \\\\\n",
        "    e^{-i(\\phi+\\omega)/2}\\sin(\\theta/2) & e^{i(\\phi+\\omega)/2}\\cos(\\theta/2) \\\\\n",
        "\\end{matrix}\n",
        "\\right) $$\n",
        "\n",
        "\n",
        "\n",
        "```python\n",
        "dev = qml.device(\"default.qubit\", wires=1)\n",
        "\n",
        "@qml.qnode(dev)\n",
        "def apply_u_as_rot(phi, theta, omega):\n",
        "    \n",
        "    qml.Rot(phi, theta, omega, wires = 0)\n",
        "    return qml.state()\n",
        "```\n",
        "\n",
        "\n"
      ],
      "metadata": {
        "id": "OnA9ntGb8cyp"
      }
    }
  ]
}